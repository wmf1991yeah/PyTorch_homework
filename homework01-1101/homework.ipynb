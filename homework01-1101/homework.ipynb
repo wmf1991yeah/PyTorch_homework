{
 "cells": [
  {
   "cell_type": "markdown",
   "metadata": {},
   "source": [
    "# 基于词向量的英汉翻译——“火炬上的深度学习\"下第一次作业\n",
    "\n",
    "在这个作业中，你需要半独立地完成一个英文到中文的单词翻译器\n",
    "\n",
    "本文件是集智AI学园http://campus.swarma.org 出品的“火炬上的深度学习”第VI课的配套源代码"
   ]
  },
  {
   "cell_type": "code",
   "execution_count": 50,
   "metadata": {},
   "outputs": [],
   "source": [
    "# 加载必要的程序包\n",
    "# PyTorch的程序包\n",
    "import torch\n",
    "from torch.autograd import Variable\n",
    "import torch.nn as nn\n",
    "import torch.nn.functional as F\n",
    "import torch.optim as optim\n",
    "\n",
    "# 数值运算和绘图的程序包\n",
    "import numpy as np\n",
    "import matplotlib.pyplot as plt\n",
    "import matplotlib\n",
    "\n",
    "\n",
    "# 加载机器学习的软件包，主要为了词向量的二维可视化\n",
    "from sklearn.decomposition import PCA\n",
    "\n",
    "#加载Word2Vec的软件包\n",
    "import gensim as gensim\n",
    "from gensim.models import Word2Vec\n",
    "from gensim.models.keyedvectors import KeyedVectors\n",
    "from gensim.models.word2vec import LineSentence\n",
    "\n",
    "#加载正则表达式处理的包\n",
    "import re\n",
    "\n",
    "#在Notebook界面能够直接显示图形\n",
    "%matplotlib inline"
   ]
  },
  {
   "cell_type": "markdown",
   "metadata": {},
   "source": [
    "## 第一步：加载词向量\n",
    "\n",
    "首先，让我们加载别人已经在大型语料库上训练好的词向量"
   ]
  },
  {
   "cell_type": "code",
   "execution_count": 51,
   "metadata": {},
   "outputs": [
    {
     "data": {
      "text/plain": [
       "1366130"
      ]
     },
     "execution_count": 51,
     "metadata": {},
     "output_type": "execute_result"
    }
   ],
   "source": [
    "# 加载中文词向量，下载地址为：链接：http://pan.baidu.com/s/1gePQAun 密码：kvtg\n",
    "# 该中文词向量库是由尹相志提供，训练语料来源为：微博、人民日报、上海热线、汽车之家等，包含1366130个词向量\n",
    "word_vectors = KeyedVectors.load_word2vec_format('vectors.bin', binary=True, unicode_errors='ignore')\n",
    "len(word_vectors.vocab)"
   ]
  },
  {
   "cell_type": "code",
   "execution_count": 52,
   "metadata": {},
   "outputs": [
    {
     "name": "stdout",
     "output_type": "stream",
     "text": [
      "400000\n"
     ]
    }
   ],
   "source": [
    "# 加载中文的词向量，下载地址为：http://nlp.stanford.edu/data/glove.6B.zip，解压后将glove.6B.100d.txt文件拷贝到与本notebook\n",
    "# 文件一致的文件夹洗面。\n",
    "f = open('glove.6B.100d.txt', 'r',encoding = 'utf-8')\n",
    "i = 1\n",
    "\n",
    "# 将英文的词向量都存入如下的字典中\n",
    "word_vectors_en = {}\n",
    "#with open('glove.6B.100d.txt') as f:\n",
    "for line in f:\n",
    "    numbers = line.split()\n",
    "    word = numbers[0]\n",
    "    vectors = np.array([float(i) for i in numbers[1 : ]])\n",
    "    word_vectors_en[word] = vectors\n",
    "    i += 1\n",
    "print(len(word_vectors_en))"
   ]
  },
  {
   "cell_type": "markdown",
   "metadata": {},
   "source": [
    "## 第二步：可视化同一组意思词在两种不同语言的词向量中的相互位置关系"
   ]
  },
  {
   "cell_type": "code",
   "execution_count": 53,
   "metadata": {},
   "outputs": [],
   "source": [
    "# 中文的一二三四五列表\n",
    "cn_list = {'一', '二', '三', '四', '五', '六', '七', '八', '九', '零'}\n",
    "# 阿拉伯数字的12345列表\n",
    "en_list = {'1', '2', '3', '4', '5', '6', '7', '8', '9', '0'}\n",
    "# 英文数字的列表\n",
    "#en_list = {'one', 'two', 'three', 'four', 'five', 'six', 'seven', 'eight', 'nine', 'zero'}\n",
    "\n",
    "# 对应词向量都存入到列表中\n",
    "cn_vectors = []  #中文的词向量列表\n",
    "en_vectors = []  #英文的词向量列表\n",
    "for w in cn_list:\n",
    "    cn_vectors.append(word_vectors[w])\n",
    "for w in en_list:\n",
    "    en_vectors.append(word_vectors_en[w])\n",
    "\n",
    "# 将这些词向量统一转化为矩阵\n",
    "cn_vectors = np.array(cn_vectors)\n",
    "en_vectors = np.array(en_vectors)"
   ]
  },
  {
   "cell_type": "code",
   "execution_count": 54,
   "metadata": {},
   "outputs": [
    {
     "data": {
      "image/png": "[encoded data removed]",
      "text/plain": [
       "<matplotlib.figure.Figure at 0xda6c588>"
      ]
     },
     "metadata": {},
     "output_type": "display_data"
    }
   ],
   "source": [
    "# 降维实现可视化\n",
    "X_reduced = PCA(n_components=2).fit_transform(cn_vectors)\n",
    "Y_reduced = PCA(n_components = 2).fit_transform(en_vectors)\n",
    "\n",
    "# 绘制所有单词向量的二维空间投影\n",
    "f, (ax1, ax2) = plt.subplots(1, 2, figsize = (10, 8))\n",
    "ax1.plot(X_reduced[:, 0], X_reduced[:, 1], 'o')\n",
    "ax2.plot(Y_reduced[:, 0], Y_reduced[:, 1], 'o')\n",
    "zhfont1 = matplotlib.font_manager.FontProperties(fname='C:\\Windows\\Fonts\\STFANGSO.TTF', size=16)\n",
    "for i, w in enumerate(cn_list):\n",
    "    ax1.text(X_reduced[i, 0], X_reduced[i, 1], w, fontproperties = zhfont1, alpha = 1)\n",
    "for i, w in enumerate(en_list):\n",
    "    ax2.text(Y_reduced[i, 0], Y_reduced[i, 1], w, alpha = 1)"
   ]
  },
  {
   "cell_type": "markdown",
   "metadata": {},
   "source": [
    "### 结论：可以看出，中文的一、二、等数字彼此之间的关系与英文的数字彼此之间的关系很类似"
   ]
  },
  {
   "cell_type": "markdown",
   "metadata": {},
   "source": [
    "## 第三步：训练一个神经网络，输入一个英文单词的词向量，输出一个中文的词向量，并翻译为中文"
   ]
  },
  {
   "cell_type": "markdown",
   "metadata": {},
   "source": [
    "首先，读入一个已经建立好的词典（dictionary.txt）。本词典是老师调用百度翻译的API，自动将一篇英文小说中的词汇逐个翻译为中文而得来的\n",
    "\n",
    "我们一个个地载入词典，并查找对应的中文词向量，如果找得到，则放入original_words中，做为正式的训练集"
   ]
  },
  {
   "cell_type": "code",
   "execution_count": 64,
   "metadata": {},
   "outputs": [
    {
     "name": "stdout",
     "output_type": "stream",
     "text": [
      "4962\n"
     ]
    }
   ],
   "source": [
    "original_words = []\n",
    "with open('dictionary.txt', 'r',encoding = 'utf-8') as f:\n",
    "    dataset = []\n",
    "    for line in f:\n",
    "        itm = line.split('\\t')\n",
    "        eng = itm[0]\n",
    "        chn = itm[1].strip()\n",
    "        if eng in word_vectors_en and chn in word_vectors:\n",
    "            data = word_vectors_en[eng]\n",
    "            target = word_vectors[chn]\n",
    "            # 将中英文词对做成数据集\n",
    "            dataset.append([data, target])\n",
    "            original_words.append([eng, chn])\n",
    "print(len(dataset)) # 共有4962个单词做为总的数据集合"
   ]
  },
  {
   "cell_type": "code",
   "execution_count": 70,
   "metadata": {
    "collapsed": true
   },
   "outputs": [],
   "source": [
    "# 建立训练集、测试集和校验集\n",
    "# 训练集用来训练神经网络，更改网络的参数；校验集用来判断网络模型是否过拟合：当校验集的损失数值超过训练集的时候，即为过拟合\n",
    "# 测试集用来检验模型的好坏\n",
    "indx = np.random.permutation(range(len(dataset)))\n",
    "dataset = [dataset[i] for i in indx]\n",
    "original_words = [original_words[i] for i in indx]\n",
    "train_size = 500\n",
    "train_data = dataset[train_size:]\n",
    "valid_data = dataset[train_size // 2 : train_size]\n",
    "test_data = dataset[: train_size // 2]\n",
    "test_words = original_words[: train_size // 2]\n"
   ]
  },
  {
   "cell_type": "code",
   "execution_count": 71,
   "metadata": {
    "scrolled": true
   },
   "outputs": [
    {
     "name": "stdout",
     "output_type": "stream",
     "text": [
      "0轮，训练Loss: 8.73, 校验Loss: 8.40\n",
      "1轮，训练Loss: 8.31, 校验Loss: 8.10\n",
      "2轮，训练Loss: 8.07, 校验Loss: 7.92\n",
      "3轮，训练Loss: 7.91, 校验Loss: 7.81\n",
      "4轮，训练Loss: 7.80, 校验Loss: 7.73\n",
      "5轮，训练Loss: 7.71, 校验Loss: 7.66\n",
      "6轮，训练Loss: 7.64, 校验Loss: 7.61\n",
      "7轮，训练Loss: 7.58, 校验Loss: 7.56\n",
      "8轮，训练Loss: 7.53, 校验Loss: 7.53\n",
      "9轮，训练Loss: 7.48, 校验Loss: 7.49\n",
      "10轮，训练Loss: 7.44, 校验Loss: 7.47\n",
      "11轮，训练Loss: 7.41, 校验Loss: 7.44\n",
      "12轮，训练Loss: 7.38, 校验Loss: 7.42\n",
      "13轮，训练Loss: 7.35, 校验Loss: 7.40\n",
      "14轮，训练Loss: 7.32, 校验Loss: 7.39\n",
      "15轮，训练Loss: 7.30, 校验Loss: 7.37\n",
      "16轮，训练Loss: 7.28, 校验Loss: 7.36\n",
      "17轮，训练Loss: 7.26, 校验Loss: 7.35\n",
      "18轮，训练Loss: 7.24, 校验Loss: 7.34\n",
      "19轮，训练Loss: 7.23, 校验Loss: 7.33\n",
      "20轮，训练Loss: 7.21, 校验Loss: 7.32\n",
      "21轮，训练Loss: 7.20, 校验Loss: 7.31\n",
      "22轮，训练Loss: 7.18, 校验Loss: 7.31\n",
      "23轮，训练Loss: 7.17, 校验Loss: 7.30\n",
      "24轮，训练Loss: 7.16, 校验Loss: 7.29\n",
      "25轮，训练Loss: 7.15, 校验Loss: 7.29\n",
      "26轮，训练Loss: 7.14, 校验Loss: 7.28\n",
      "27轮，训练Loss: 7.13, 校验Loss: 7.28\n",
      "28轮，训练Loss: 7.12, 校验Loss: 7.27\n",
      "29轮，训练Loss: 7.12, 校验Loss: 7.27\n",
      "30轮，训练Loss: 7.11, 校验Loss: 7.27\n",
      "31轮，训练Loss: 7.10, 校验Loss: 7.26\n",
      "32轮，训练Loss: 7.10, 校验Loss: 7.26\n",
      "33轮，训练Loss: 7.09, 校验Loss: 7.26\n",
      "34轮，训练Loss: 7.08, 校验Loss: 7.25\n",
      "35轮，训练Loss: 7.08, 校验Loss: 7.25\n",
      "36轮，训练Loss: 7.07, 校验Loss: 7.25\n",
      "37轮，训练Loss: 7.07, 校验Loss: 7.25\n",
      "38轮，训练Loss: 7.06, 校验Loss: 7.25\n",
      "39轮，训练Loss: 7.06, 校验Loss: 7.24\n",
      "40轮，训练Loss: 7.06, 校验Loss: 7.24\n",
      "41轮，训练Loss: 7.05, 校验Loss: 7.24\n",
      "42轮，训练Loss: 7.05, 校验Loss: 7.24\n",
      "43轮，训练Loss: 7.04, 校验Loss: 7.24\n",
      "44轮，训练Loss: 7.04, 校验Loss: 7.23\n",
      "45轮，训练Loss: 7.04, 校验Loss: 7.23\n",
      "46轮，训练Loss: 7.03, 校验Loss: 7.23\n",
      "47轮，训练Loss: 7.03, 校验Loss: 7.23\n",
      "48轮，训练Loss: 7.03, 校验Loss: 7.23\n",
      "49轮，训练Loss: 7.03, 校验Loss: 7.23\n",
      "50轮，训练Loss: 7.02, 校验Loss: 7.23\n",
      "51轮，训练Loss: 7.02, 校验Loss: 7.23\n",
      "52轮，训练Loss: 7.02, 校验Loss: 7.22\n",
      "53轮，训练Loss: 7.02, 校验Loss: 7.22\n",
      "54轮，训练Loss: 7.01, 校验Loss: 7.22\n",
      "55轮，训练Loss: 7.01, 校验Loss: 7.22\n",
      "56轮，训练Loss: 7.01, 校验Loss: 7.22\n",
      "57轮，训练Loss: 7.01, 校验Loss: 7.22\n",
      "58轮，训练Loss: 7.00, 校验Loss: 7.22\n",
      "59轮，训练Loss: 7.00, 校验Loss: 7.22\n",
      "60轮，训练Loss: 7.00, 校验Loss: 7.22\n",
      "61轮，训练Loss: 7.00, 校验Loss: 7.22\n",
      "62轮，训练Loss: 7.00, 校验Loss: 7.22\n",
      "63轮，训练Loss: 7.00, 校验Loss: 7.21\n",
      "64轮，训练Loss: 6.99, 校验Loss: 7.21\n",
      "65轮，训练Loss: 6.99, 校验Loss: 7.21\n",
      "66轮，训练Loss: 6.99, 校验Loss: 7.21\n",
      "67轮，训练Loss: 6.99, 校验Loss: 7.21\n",
      "68轮，训练Loss: 6.99, 校验Loss: 7.21\n",
      "69轮，训练Loss: 6.99, 校验Loss: 7.21\n",
      "70轮，训练Loss: 6.99, 校验Loss: 7.21\n",
      "71轮，训练Loss: 6.98, 校验Loss: 7.21\n",
      "72轮，训练Loss: 6.98, 校验Loss: 7.21\n",
      "73轮，训练Loss: 6.98, 校验Loss: 7.21\n",
      "74轮，训练Loss: 6.98, 校验Loss: 7.21\n",
      "75轮，训练Loss: 6.98, 校验Loss: 7.21\n",
      "76轮，训练Loss: 6.98, 校验Loss: 7.21\n",
      "77轮，训练Loss: 6.98, 校验Loss: 7.20\n",
      "78轮，训练Loss: 6.98, 校验Loss: 7.20\n",
      "79轮，训练Loss: 6.97, 校验Loss: 7.20\n",
      "80轮，训练Loss: 6.97, 校验Loss: 7.20\n",
      "81轮，训练Loss: 6.97, 校验Loss: 7.20\n",
      "82轮，训练Loss: 6.97, 校验Loss: 7.20\n",
      "83轮，训练Loss: 6.97, 校验Loss: 7.20\n",
      "84轮，训练Loss: 6.97, 校验Loss: 7.20\n",
      "85轮，训练Loss: 6.97, 校验Loss: 7.20\n",
      "86轮，训练Loss: 6.97, 校验Loss: 7.20\n",
      "87轮，训练Loss: 6.97, 校验Loss: 7.20\n",
      "88轮，训练Loss: 6.97, 校验Loss: 7.20\n",
      "89轮，训练Loss: 6.96, 校验Loss: 7.20\n",
      "90轮，训练Loss: 6.96, 校验Loss: 7.20\n",
      "91轮，训练Loss: 6.96, 校验Loss: 7.20\n",
      "92轮，训练Loss: 6.96, 校验Loss: 7.20\n",
      "93轮，训练Loss: 6.96, 校验Loss: 7.20\n",
      "94轮，训练Loss: 6.96, 校验Loss: 7.20\n",
      "95轮，训练Loss: 6.96, 校验Loss: 7.20\n",
      "96轮，训练Loss: 6.96, 校验Loss: 7.20\n",
      "97轮，训练Loss: 6.96, 校验Loss: 7.20\n",
      "98轮，训练Loss: 6.96, 校验Loss: 7.20\n",
      "99轮，训练Loss: 6.96, 校验Loss: 7.20\n"
     ]
    }
   ],
   "source": [
    "# 开始训练一个多层神经网络，将一个100维度的英文向量映射为200维度的中文词向量，隐含层节点为30\n",
    "\n",
    "input_size = 100\n",
    "output_size = 200\n",
    "hidden_size = 30\n",
    "\n",
    "# 新建一个神经网络，包含一个隐含层\n",
    "model = nn.Sequential(nn.Linear(input_size, hidden_size),\n",
    "                     nn.Tanh(),\n",
    "                     nn.Linear(hidden_size, output_size)\n",
    "                     )\n",
    "\n",
    "# 构造损失函数\n",
    "criterion = torch.nn.MSELoss()\n",
    "\n",
    "# 构造优化器\n",
    "optimizer = torch.optim.Adam(model.parameters(), lr = 0.0001)\n",
    "\n",
    "# 总的循环周期\n",
    "num_epoch = 100\n",
    "\n",
    "\n",
    "#开始训练500次，每次对所有的数据都做循环\n",
    "results = []\n",
    "for epoch in range(num_epoch):\n",
    "    train_loss = []\n",
    "    for data in train_data:\n",
    "        # 读入数据\n",
    "        x = Variable(torch.FloatTensor(data[0])).unsqueeze(0)\n",
    "        y = Variable(torch.FloatTensor(data[1])).unsqueeze(0)\n",
    "        # 模型预测\n",
    "        output = model(x)\n",
    "        \n",
    "        # 反向传播算法训练\n",
    "        optimizer.zero_grad()\n",
    "        loss = criterion(output, y)\n",
    "        train_loss.append(loss.data.numpy()[0])\n",
    "        loss.backward()\n",
    "        optimizer.step()\n",
    "    # 在校验集上测试一下效果\n",
    "    valid_loss = []\n",
    "    for data in valid_data:\n",
    "        x = Variable(torch.FloatTensor(data[0])).unsqueeze(0)\n",
    "        y = Variable(torch.FloatTensor(data[1])).unsqueeze(0)\n",
    "        output = model(x)\n",
    "        loss = criterion(output, y)\n",
    "        valid_loss.append(loss.data.numpy()[0])\n",
    "    results.append([np.mean(train_loss), np.mean(valid_loss)])\n",
    "    print('{}轮，训练Loss: {:.2f}, 校验Loss: {:.2f}'.format(epoch, np.mean(train_loss), np.mean(valid_loss)))\n"
   ]
  },
  {
   "cell_type": "code",
   "execution_count": 72,
   "metadata": {},
   "outputs": [
    {
     "data": {
      "text/plain": [
       "<matplotlib.legend.Legend at 0xe84eef0>"
      ]
     },
     "execution_count": 72,
     "metadata": {},
     "output_type": "execute_result"
    },
    {
     "data": {
      "image/png": "[encoded data removed]",
      "text/plain": [
       "<matplotlib.figure.Figure at 0xe80d748>"
      ]
     },
     "metadata": {},
     "output_type": "display_data"
    }
   ],
   "source": [
    "# 绘制图形\n",
    "a = [i[0] for i in results]\n",
    "b = [i[1] for i in results]\n",
    "plt.plot(a, 'o', label = 'Training Loss')\n",
    "plt.plot(b, 's', label = 'Validation Loss')\n",
    "plt.xlabel('Epoch')\n",
    "plt.ylabel('Loss Function')\n",
    "plt.legend()"
   ]
  },
  {
   "cell_type": "code",
   "execution_count": 74,
   "metadata": {},
   "outputs": [
    {
     "name": "stdout",
     "output_type": "stream",
     "text": [
      "精确匹配率：0.10\n",
      "一字匹配率：0.19\n",
      "[['可信', '信任'], ['视角', '理解'], ['敲', '倒'], ['细胞', '传感器'], ['的', '2'], ['生活', '住在'], ['任命', '指派'], ['感动', '折返'], ['溺水', '自杀'], ['特别', '专人'], ['焦虑', '难过'], ['复制', '文档'], ['似乎', '也许'], ['凯迪拉克', '跑车'], ['树桩', '卡住'], ['或', '或者'], ['折磨', '暴力'], ['饿死', '反抗'], ['狼狈', '沮丧'], ['吐痰', '放屁'], ['碟', '木乃伊'], ['显然', '或者说'], ['金', '金色'], ['分支', '边境'], ['翅膀', '后背'], ['学士', '教学'], ['打', '他'], ['圆', '开球'], ['抑制', '瓦解'], ['左', '倒'], ['喔', '啊'], ['再见', '回来'], ['标题', '胜利者'], ['参与', '问题'], ['发射机', '开关'], ['卍', '图案'], ['侏罗纪', '史前'], ['945', '13'], ['领袖', '在政治上'], ['模型', '技术'], ['小狗', '妈妈'], ['封闭', '墙壁'], ['顶', '镶'], ['犹豫', '因为'], ['失忆', '恐惧'], ['影响', '危害'], ['趾', '腿'], ['送', '发给'], ['哈瓦那', '伊斯坦布尔'], ['杠杆', '钩子'], ['线索', '知道'], ['裸', '缝'], ['山姆', '哥哥'], ['洪水', '塌陷'], ['板', '凿'], ['祝贺', '谢谢'], ['沙漠', '沙漠'], ['叶', '肉'], ['打破', '掉'], ['水果', '水果'], ['时尚', '服装'], ['胡萝卜', '肉'], ['车队', '增援'], ['盖世太保', '警察'], ['繁荣', '萧条'], ['43', '42'], ['研究员', '他'], ['高跟鞋', '腿'], ['脚尖', '转动'], ['退出', '他'], ['八', '说得对'], ['尾巴', '腿'], ['嘲笑', '叫喊'], ['扔', '扔'], ['处', '也许'], ['强烈', '理解'], ['大厦', '木屋'], ['古董', '别致'], ['英语', '汉语'], ['瓦尔多', '马尔堡'], ['质疑', '解释'], ['入侵', '入侵'], ['条', '边沿'], ['包装', '取下'], ['宇宙', '宇宙'], ['保护', '保护'], ['车辆', '车辆'], ['墙', '墙壁'], ['表达', '语言'], ['兄弟', '她'], ['计算机', '模块'], ['部分', '管状'], ['太阳镜', '镜框'], ['公主', '公主'], ['曲线', '斜向'], ['重要', '应该'], ['担心', '因为'], ['雕像', '雕像'], ['成长', '所以'], ['四', '扯下'], ['归队', '放弃'], ['笔', '箱子'], ['丧失', '退回'], ['除非', '如果'], ['骑', '停下来'], ['秃鹫', '恶魔'], ['恢复', '吞食'], ['债务', '支出'], ['巴巴拉', '阿龙'], ['葡萄', '肉'], ['价值', '单个'], ['今儿', '你'], ['主要', '地区性'], ['总统', '表示'], ['1', '1'], ['尘', '气泡'], ['相当', '所以'], ['冻结', '停止'], ['小', '好像'], ['皱眉', '惊恐'], ['目前', '构造'], ['系列', '编年史'], ['抢', '伸手'], ['认为', '想'], ['夹', '白'], ['帮助', '帮助'], ['自愿', '告诉他'], ['卫生', '卫生'], ['承认', '承认'], ['潮湿', '潮湿'], ['什么', '知道'], ['矛', '红发'], ['抱怨', '抱怨'], ['回忆', '解释'], ['飞', '驱赶'], ['痛苦', '沮丧'], ['计划', '方案'], ['秸秆', '头'], ['万亿', '10'], ['检查', '检查'], ['胶', '玻璃瓶'], ['颈', '后背'], ['平', '中间'], ['本书', '书'], ['星期五', '下午'], ['哈达', '散步'], ['组成', '精练'], ['000', '10'], ['干', '干燥'], ['部分', '局域网'], ['前', '挡板'], ['愤慨', '愤慨'], ['企业', '企业'], ['证实', '证实'], ['胸', '密封'], ['米兰达', '神父'], ['黎明', '黄昏'], ['放松', '放松'], ['皱', '不平'], ['控制台', '控制器'], ['解释', '说'], ['锈', '绒毛'], ['开放', '响起'], ['轴承', '部件'], ['检索', '发现'], ['交谈', '不耐烦'], ['丢弃', '去掉'], ['旅行', '奔向'], ['摇摆', '摇晃'], ['整个', '残存'], ['进展', '稳定下来'], ['古典', '哲学'], ['最后', '结束'], ['蛋糕', '豆子'], ['疯狂', '那种'], ['添加', '密封'], ['爆炸', '爆炸'], ['支付', '支付'], ['原本', '命名'], ['触摸', '眼睛'], ['数据库', '数据库'], ['冷清', '空旷'], ['自己', '他们'], ['表格', '内容'], ['威尔伯', '彼得'], ['气势', '式样'], ['啦啦队', '跳舞'], ['介绍', '通过'], ['多', '因为'], ['获得', '确认'], ['主管', '工作人员'], ['拴', '抱起'], ['沙球', '抬手'], ['护目镜', '面罩'], ['丰满', '腿'], ['缰绳', '斜着'], ['享受', '自由自在'], ['鼻子', '脖子'], ['岩', '岩石'], ['活跃', '颤抖'], ['破解', '裂开'], ['辊', '圆形'], ['摧毁', '掩埋'], ['连续', '构造'], ['想', '我'], ['申请', '允许'], ['碟', '奇异'], ['宇宙', '粒子'], ['月', '11'], ['重要', '或者说'], ['推荐', '建议'], ['触发', '导致'], ['牛仔', '头饰'], ['可以', '所以'], ['码', '滚'], ['镜', '镜面'], ['把', '理解'], ['盎司', '王国'], ['热情', '高兴'], ['扫', '跳跃'], ['可能性', '可能'], ['四十', '哭'], ['轿车', '上楼'], ['丝绸', '花纹'], ['安', '女儿'], ['飞船', '宇宙飞船'], ['新', '猜测'], ['你', '你'], ['涂鸦', '写'], ['简化', '简化'], ['唷', '啊'], ['细化', '结构'], ['毫不逊色', '理解'], ['讲究', '抚摸'], ['鼓励', '鼓励'], ['突然', '中止'], ['不良', '饮食'], ['可能', '因为'], ['噪声', '喊叫'], ['捣', '击打'], ['逾期', '结算'], ['巨', '巨型'], ['伊利诺斯', '州'], ['应用', '使用'], ['马', '猴子'], ['无限', '惊恐'], ['清洗', '粘'], ['很', '脆弱'], ['电影', '故事'], ['推', '下压']]\n"
     ]
    }
   ],
   "source": [
    "# 在测试集上验证准确度\n",
    "# 检验标准有两个：一个是直接用预测的词和标准答案做全词匹配；另一个是做单字的匹配\n",
    "exact_same = 0  #全词匹配数量\n",
    "one_same = 0 #单字匹配数量\n",
    "results = []\n",
    "for i, data in enumerate(test_data):\n",
    "    x = Variable(torch.FloatTensor(data[0])).unsqueeze(0)\n",
    "    # 给出模型的输出\n",
    "    output = model(x)\n",
    "    output = output.squeeze().data.numpy()\n",
    "    # 从中文词向量中找到与输出向量最相似的向量\n",
    "    most_similar = word_vectors.wv.similar_by_vector(output, 1)\n",
    "    # 将标准答案中的词与最相似的向量所对应的词打印出来\n",
    "    results.append([original_words[i][1], most_similar[0][0]])\n",
    "    \n",
    "    # 全词匹配\n",
    "    if original_words[i][1] == most_similar[0][0]:\n",
    "        exact_same += 1\n",
    "    # 某一个字匹配\n",
    "    if list(set(list(original_words[i][1])) & set(list(most_similar[0][0]))) != []:\n",
    "        one_same += 1\n",
    "    \n",
    "print(\"精确匹配率：{:.2f}\".format(1.0 * exact_same / len(test_data)))\n",
    "print('一字匹配率：{:.2f}'.format(1.0 * one_same / len(test_data)))\n",
    "print(results)"
   ]
  },
  {
   "cell_type": "code",
   "execution_count": null,
   "metadata": {
    "collapsed": true
   },
   "outputs": [],
   "source": []
  }
 ],
 "metadata": {
  "anaconda-cloud": {},
  "kernelspec": {
   "display_name": "Python 3",
   "language": "python",
   "name": "python3"
  },
  "language_info": {
   "codemirror_mode": {
    "name": "ipython",
    "version": 3
   },
   "file_extension": ".py",
   "mimetype": "text/x-python",
   "name": "python",
   "nbconvert_exporter": "python",
   "pygments_lexer": "ipython3",
   "version": "3.6.2"
  }
 },
 "nbformat": 4,
 "nbformat_minor": 2
}
